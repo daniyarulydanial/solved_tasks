{
 "cells": [
  {
   "cell_type": "code",
   "execution_count": 1,
   "id": "52766e38",
   "metadata": {},
   "outputs": [],
   "source": [
    "import numpy as np\n",
    "import pandas as pd"
   ]
  },
  {
   "cell_type": "code",
   "execution_count": 3,
   "id": "5e7d58aa",
   "metadata": {},
   "outputs": [
    {
     "name": "stdout",
     "output_type": "stream",
     "text": [
      "        Case Number                    Date                  Block  IUCR  \\\n",
      "ID                                                                         \n",
      "2383135    HH684629  10/01/2002 12:47:08 PM   032XX W ROOSEVELT RD  0860   \n",
      "2383437    HH693227  09/04/2002 09:30:00 PM   048XX W ARMITAGE AVE  0486   \n",
      "2383482    HH692935  10/04/2002 10:09:09 PM   116XX S MICHIGAN AVE  1330   \n",
      "2383568    HH690681  10/03/2002 05:00:00 AM      017XX W TOUHY AVE  0610   \n",
      "2457967    HH706178  10/11/2002 12:28:49 AM        023XX E 79TH ST  0486   \n",
      "...             ...                     ...                    ...   ...   \n",
      "2382738    HH688996  10/03/2002 10:30:00 AM     054XX S TALMAN AVE  141C   \n",
      "2382891    HH655165  09/17/2002 10:50:00 PM    061XX S ASHLAND AVE  1506   \n",
      "2382967    HH691677  09/29/2002 11:00:00 AM  031XX W FRANKLIN BLVD  1152   \n",
      "2383055    HH691794  10/04/2002 12:00:00 AM        063XX W EDDY ST  0810   \n",
      "2383103    HH686920  10/02/2002 07:30:00 AM    113XX S HARVARD AVE  1310   \n",
      "\n",
      "               Primary Type                     Description  \\\n",
      "ID                                                            \n",
      "2383135               THEFT                    RETAIL THEFT   \n",
      "2383437             BATTERY         DOMESTIC BATTERY SIMPLE   \n",
      "2383482   CRIMINAL TRESPASS                         TO LAND   \n",
      "2383568            BURGLARY                  FORCIBLE ENTRY   \n",
      "2457967             BATTERY         DOMESTIC BATTERY SIMPLE   \n",
      "...                     ...                             ...   \n",
      "2382738   WEAPONS VIOLATION  UNLAWFUL USE OTHER DANG WEAPON   \n",
      "2382891        PROSTITUTION           SOLICIT ON PUBLIC WAY   \n",
      "2382967  DECEPTIVE PRACTICE           ILLEGAL USE CASH CARD   \n",
      "2383055               THEFT                       OVER $500   \n",
      "2383103     CRIMINAL DAMAGE                     TO PROPERTY   \n",
      "\n",
      "             Location Description  Arrest  Domestic  Beat  District  Ward  \\\n",
      "ID                                                                          \n",
      "2383135        GROCERY FOOD STORE    True     False  1134      11.0  24.0   \n",
      "2383437       TAVERN/LIQUOR STORE   False      True  2522      25.0  31.0   \n",
      "2383482               GAS STATION    True     False   532       5.0   9.0   \n",
      "2383568                 APARTMENT   False     False  2423      24.0  49.0   \n",
      "2457967                    STREET   False     False   414       4.0   7.0   \n",
      "...                           ...     ...       ...   ...       ...   ...   \n",
      "2382738  SCHOOL, PUBLIC, BUILDING   False     False   911       9.0  14.0   \n",
      "2382891                    STREET    True     False   713       7.0  15.0   \n",
      "2382967                 RESIDENCE   False     False  1313      12.0  27.0   \n",
      "2383055                    STREET   False     False  1633      16.0  36.0   \n",
      "2383103   RESIDENCE PORCH/HALLWAY   False     False   522       5.0  34.0   \n",
      "\n",
      "         Community Area FBI Code  \n",
      "ID                                \n",
      "2383135            29.0       06  \n",
      "2383437            19.0      08B  \n",
      "2383482            53.0       26  \n",
      "2383568             1.0       05  \n",
      "2457967            43.0      08B  \n",
      "...                 ...      ...  \n",
      "2382738            63.0       15  \n",
      "2382891            67.0       16  \n",
      "2382967            23.0       11  \n",
      "2383055            17.0       06  \n",
      "2383103            49.0       14  \n",
      "\n",
      "[60249 rows x 14 columns]\n"
     ]
    }
   ],
   "source": [
    "crimes = pd.read_csv(\"Crimes.csv\", index_col = 0)\n",
    "print(crimes)"
   ]
  },
  {
   "cell_type": "code",
   "execution_count": 48,
   "id": "135a2823",
   "metadata": {},
   "outputs": [
    {
     "name": "stdout",
     "output_type": "stream",
     "text": [
      "{'NARCOTICS': 254, 'BATTERY': 473, 'CRIMINAL DAMAGE': 297, 'ASSAULT': 175, 'DECEPTIVE PRACTICE': 140, 'THEFT': 596, 'ROBBERY': 88, 'INTERFERENCE WITH PUBLIC OFFICER': 13, 'PROSTITUTION': 14, 'CRIMINAL TRESPASS': 64, 'BURGLARY': 132, 'OTHER OFFENSE': 179, 'PUBLIC PEACE VIOLATION': 28, 'MOTOR VEHICLE THEFT': 123, 'OFFENSE INVOLVING CHILDREN': 18, 'WEAPONS VIOLATION': 28, 'CRIM SEXUAL ASSAULT': 17, 'INTIMIDATION': 2, 'SEX OFFENSE': 9, 'KIDNAPPING': 2, 'STALKING': 2, 'GAMBLING': 2, 'LIQUOR LAW VIOLATION': 4, 'ARSON': 3, 'HOMICIDE': 5}\n",
      "THEFT 596\n"
     ]
    }
   ],
   "source": [
    "dates = crimes[[\"Date\", \"Primary Type\"]]\n",
    "crimes_in_2015 = {}\n",
    "for index, row in dates.iterrows():\n",
    "    row = row.to_numpy()\n",
    "    splitted = row[0].split(\" \")\n",
    "    year = splitted[0].split(\"/\")\n",
    "    if (int(year[2]) == 2015):\n",
    "        if (row[1] in crimes_in_2015):\n",
    "            crimes_in_2015[row[1]] += 1\n",
    "        else:\n",
    "            crimes_in_2015[row[1]] = 1\n",
    "maxi = 0\n",
    "crime = \"\"\n",
    "for key, value in crimes_in_2015.items():\n",
    "    if (value >= maxi):\n",
    "        maxi = value\n",
    "        crime = key\n",
    "print(crimes_in_2015)\n",
    "print(crime, maxi)"
   ]
  },
  {
   "cell_type": "code",
   "execution_count": null,
   "id": "0c631f80",
   "metadata": {},
   "outputs": [],
   "source": []
  }
 ],
 "metadata": {
  "kernelspec": {
   "display_name": "Python 3",
   "language": "python",
   "name": "python3"
  },
  "language_info": {
   "codemirror_mode": {
    "name": "ipython",
    "version": 3
   },
   "file_extension": ".py",
   "mimetype": "text/x-python",
   "name": "python",
   "nbconvert_exporter": "python",
   "pygments_lexer": "ipython3",
   "version": "3.8.8"
  }
 },
 "nbformat": 4,
 "nbformat_minor": 5
}
